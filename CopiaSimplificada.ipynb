{
 "cells": [
  {
   "cell_type": "markdown",
   "id": "001422c1",
   "metadata": {},
   "source": [
    "# 1. Limpieza de fechas"
   ]
  },
  {
   "cell_type": "markdown",
   "id": "de9d26c9",
   "metadata": {},
   "source": [
    "# 2. Fichero pequeño pruebas"
   ]
  },
  {
   "cell_type": "code",
   "execution_count": 1,
   "id": "fdca050a",
   "metadata": {},
   "outputs": [],
   "source": [
    "import pandas as pd"
   ]
  },
  {
   "cell_type": "code",
   "execution_count": 2,
   "id": "b830a5bb",
   "metadata": {},
   "outputs": [
    {
     "name": "stderr",
     "output_type": "stream",
     "text": [
      "/tmp/ipykernel_61034/1634099692.py:16: FutureWarning: The frame.append method is deprecated and will be removed from pandas in a future version. Use pandas.concat instead.\n",
      "  df_short = dl_E.append(dl_F, ignore_index = True)\n",
      "/tmp/ipykernel_61034/1634099692.py:17: FutureWarning: The frame.append method is deprecated and will be removed from pandas in a future version. Use pandas.concat instead.\n",
      "  df_short = df_short.append(dl_G, ignore_index = True)\n",
      "/tmp/ipykernel_61034/1634099692.py:18: FutureWarning: The frame.append method is deprecated and will be removed from pandas in a future version. Use pandas.concat instead.\n",
      "  df_short = df_short.append(dl_H, ignore_index = True)\n",
      "/tmp/ipykernel_61034/1634099692.py:19: FutureWarning: The frame.append method is deprecated and will be removed from pandas in a future version. Use pandas.concat instead.\n",
      "  df_short = df_short.append(dl_I, ignore_index = True)\n",
      "/tmp/ipykernel_61034/1634099692.py:20: FutureWarning: The frame.append method is deprecated and will be removed from pandas in a future version. Use pandas.concat instead.\n",
      "  df_short = df_short.append(dl_A, ignore_index = True)\n",
      "/tmp/ipykernel_61034/1634099692.py:21: FutureWarning: The frame.append method is deprecated and will be removed from pandas in a future version. Use pandas.concat instead.\n",
      "  df_short = df_short.append(dl_B, ignore_index = True)\n",
      "/tmp/ipykernel_61034/1634099692.py:22: FutureWarning: The frame.append method is deprecated and will be removed from pandas in a future version. Use pandas.concat instead.\n",
      "  df_short = df_short.append(dl_C, ignore_index = True)\n"
     ]
    }
   ],
   "source": [
    "dataStream = pd.read_feather(\"data/anubis.feather\")\n",
    "dl_E = dataStream.loc[(dataStream['ID'] == '492472017-01-13')] \n",
    "dl_F = dataStream.loc[(dataStream['ID'] == '492472017-01-10')] \n",
    "dl_G = dataStream.loc[(dataStream['ID'] == '492582017-01-09')] \n",
    "\n",
    "dl_I = dataStream.loc[(dataStream['ID'] == '578522018-05-24')] \n",
    "\n",
    "dl_H = dataStream.loc[(dataStream['ID'] == '575652019-06-25')] \n",
    "\n",
    "\n",
    "\n",
    "dl_A = dataStream.loc[(dataStream['ID'] == '412062017-01-19')] \n",
    "dl_B = dataStream.loc[(dataStream['ID'] == '492142020-02-20')] #2017-01-19 hasta 2019-01-06\n",
    "dl_C = dataStream.loc[(dataStream['ID'] == '492762020-01-17')] #2017-01-19 hasta 2019-01-06\n",
    "\n",
    "df_short = dl_E.append(dl_F, ignore_index = True)\n",
    "df_short = df_short.append(dl_G, ignore_index = True)\n",
    "df_short = df_short.append(dl_H, ignore_index = True)\n",
    "df_short = df_short.append(dl_I, ignore_index = True)\n",
    "df_short = df_short.append(dl_A, ignore_index = True)\n",
    "df_short = df_short.append(dl_B, ignore_index = True)\n",
    "df_short = df_short.append(dl_C, ignore_index = True)\n"
   ]
  },
  {
   "cell_type": "raw",
   "id": "66b10ee2",
   "metadata": {},
   "source": [
    "dataStream = pd.read_feather(\"data/anubisShorted_versionSimple.feather\")\n",
    "pd.set_option('display.max_columns', None)\n",
    "pd.set_option('display.max_rows', None)"
   ]
  },
  {
   "cell_type": "code",
   "execution_count": 3,
   "id": "97f55e96",
   "metadata": {},
   "outputs": [],
   "source": [
    "df_short = df_short.sort_values(by='DATE_EVENT').reset_index(drop=True)"
   ]
  },
  {
   "cell_type": "code",
   "execution_count": 4,
   "id": "96a105c7",
   "metadata": {},
   "outputs": [],
   "source": [
    "df_short = df_short[['EVENT_TYPE', 'DATE_EVENT', 'ID', 'LOCATION_IDENTIFIED', 'LAT', 'LNG' ]]"
   ]
  },
  {
   "cell_type": "code",
   "execution_count": 5,
   "id": "59ad84d7",
   "metadata": {},
   "outputs": [],
   "source": [
    "df_short.rename(columns = {'LOCATION_IDENTIFIED':'LOCATION'}, inplace = True)"
   ]
  },
  {
   "cell_type": "code",
   "execution_count": 6,
   "id": "a5a733d0",
   "metadata": {},
   "outputs": [],
   "source": [
    "df_short.to_feather(\"data/anubisShorted_shortedSimple_3columns.feather\")"
   ]
  },
  {
   "cell_type": "code",
   "execution_count": 7,
   "id": "48831b50",
   "metadata": {},
   "outputs": [
    {
     "data": {
      "text/html": [
       "<div>\n",
       "<style scoped>\n",
       "    .dataframe tbody tr th:only-of-type {\n",
       "        vertical-align: middle;\n",
       "    }\n",
       "\n",
       "    .dataframe tbody tr th {\n",
       "        vertical-align: top;\n",
       "    }\n",
       "\n",
       "    .dataframe thead th {\n",
       "        text-align: right;\n",
       "    }\n",
       "</style>\n",
       "<table border=\"1\" class=\"dataframe\">\n",
       "  <thead>\n",
       "    <tr style=\"text-align: right;\">\n",
       "      <th></th>\n",
       "      <th>EVENT_TYPE</th>\n",
       "      <th>DATE_EVENT</th>\n",
       "      <th>ID</th>\n",
       "      <th>LOCATION</th>\n",
       "      <th>LAT</th>\n",
       "      <th>LNG</th>\n",
       "    </tr>\n",
       "  </thead>\n",
       "  <tbody>\n",
       "    <tr>\n",
       "      <th>0</th>\n",
       "      <td>SALIDA DE VAGONES</td>\n",
       "      <td>2017-01-04 22:00:00</td>\n",
       "      <td>492472017-01-13</td>\n",
       "      <td>SOLNICE</td>\n",
       "      <td>50.203844</td>\n",
       "      <td>16.253842</td>\n",
       "    </tr>\n",
       "    <tr>\n",
       "      <th>1</th>\n",
       "      <td>SALIDA DE VAGONES</td>\n",
       "      <td>2017-01-04 22:00:00</td>\n",
       "      <td>492472017-01-13</td>\n",
       "      <td>SOLNICE</td>\n",
       "      <td>50.203844</td>\n",
       "      <td>16.253842</td>\n",
       "    </tr>\n",
       "    <tr>\n",
       "      <th>2</th>\n",
       "      <td>SALIDA DE VAGONES</td>\n",
       "      <td>2017-01-04 22:00:00</td>\n",
       "      <td>492472017-01-13</td>\n",
       "      <td>SOLNICE</td>\n",
       "      <td>50.203844</td>\n",
       "      <td>16.253842</td>\n",
       "    </tr>\n",
       "    <tr>\n",
       "      <th>3</th>\n",
       "      <td>SALIDA DE VAGONES</td>\n",
       "      <td>2017-01-04 22:00:00</td>\n",
       "      <td>492472017-01-13</td>\n",
       "      <td>SOLNICE</td>\n",
       "      <td>50.203844</td>\n",
       "      <td>16.253842</td>\n",
       "    </tr>\n",
       "    <tr>\n",
       "      <th>4</th>\n",
       "      <td>SALIDA DE VAGONES</td>\n",
       "      <td>2017-01-04 22:00:00</td>\n",
       "      <td>492472017-01-13</td>\n",
       "      <td>SOLNICE</td>\n",
       "      <td>50.203844</td>\n",
       "      <td>16.253842</td>\n",
       "    </tr>\n",
       "    <tr>\n",
       "      <th>...</th>\n",
       "      <td>...</td>\n",
       "      <td>...</td>\n",
       "      <td>...</td>\n",
       "      <td>...</td>\n",
       "      <td>...</td>\n",
       "      <td>...</td>\n",
       "    </tr>\n",
       "    <tr>\n",
       "      <th>3905</th>\n",
       "      <td>FIN DE DESCARGA DE VAGONES</td>\n",
       "      <td>2020-01-24 12:00:00</td>\n",
       "      <td>492762020-01-17</td>\n",
       "      <td>MUNCHEN MILBERSHOFEN ALTMANN</td>\n",
       "      <td>48.181856</td>\n",
       "      <td>11.572768</td>\n",
       "    </tr>\n",
       "    <tr>\n",
       "      <th>3906</th>\n",
       "      <td>FIN DE DESCARGA DE VAGONES</td>\n",
       "      <td>2020-01-24 12:00:00</td>\n",
       "      <td>492762020-01-17</td>\n",
       "      <td>MUNCHEN MILBERSHOFEN ALTMANN</td>\n",
       "      <td>48.181856</td>\n",
       "      <td>11.572768</td>\n",
       "    </tr>\n",
       "    <tr>\n",
       "      <th>3907</th>\n",
       "      <td>FIN DE DESCARGA DE VAGONES</td>\n",
       "      <td>2020-01-24 12:00:00</td>\n",
       "      <td>492762020-01-17</td>\n",
       "      <td>MUNCHEN MILBERSHOFEN ALTMANN</td>\n",
       "      <td>48.181856</td>\n",
       "      <td>11.572768</td>\n",
       "    </tr>\n",
       "    <tr>\n",
       "      <th>3908</th>\n",
       "      <td>FIN DE DESCARGA DE VAGONES</td>\n",
       "      <td>2020-01-24 12:00:00</td>\n",
       "      <td>492762020-01-17</td>\n",
       "      <td>MUNCHEN MILBERSHOFEN ALTMANN</td>\n",
       "      <td>48.181856</td>\n",
       "      <td>11.572768</td>\n",
       "    </tr>\n",
       "    <tr>\n",
       "      <th>3909</th>\n",
       "      <td>FIN DE DESCARGA DE VAGONES</td>\n",
       "      <td>2020-01-24 12:00:00</td>\n",
       "      <td>492762020-01-17</td>\n",
       "      <td>MUNCHEN MILBERSHOFEN ALTMANN</td>\n",
       "      <td>48.181856</td>\n",
       "      <td>11.572768</td>\n",
       "    </tr>\n",
       "  </tbody>\n",
       "</table>\n",
       "<p>3910 rows × 6 columns</p>\n",
       "</div>"
      ],
      "text/plain": [
       "                      EVENT_TYPE          DATE_EVENT               ID  \\\n",
       "0              SALIDA DE VAGONES 2017-01-04 22:00:00  492472017-01-13   \n",
       "1              SALIDA DE VAGONES 2017-01-04 22:00:00  492472017-01-13   \n",
       "2              SALIDA DE VAGONES 2017-01-04 22:00:00  492472017-01-13   \n",
       "3              SALIDA DE VAGONES 2017-01-04 22:00:00  492472017-01-13   \n",
       "4              SALIDA DE VAGONES 2017-01-04 22:00:00  492472017-01-13   \n",
       "...                          ...                 ...              ...   \n",
       "3905  FIN DE DESCARGA DE VAGONES 2020-01-24 12:00:00  492762020-01-17   \n",
       "3906  FIN DE DESCARGA DE VAGONES 2020-01-24 12:00:00  492762020-01-17   \n",
       "3907  FIN DE DESCARGA DE VAGONES 2020-01-24 12:00:00  492762020-01-17   \n",
       "3908  FIN DE DESCARGA DE VAGONES 2020-01-24 12:00:00  492762020-01-17   \n",
       "3909  FIN DE DESCARGA DE VAGONES 2020-01-24 12:00:00  492762020-01-17   \n",
       "\n",
       "                          LOCATION        LAT        LNG  \n",
       "0                          SOLNICE  50.203844  16.253842  \n",
       "1                          SOLNICE  50.203844  16.253842  \n",
       "2                          SOLNICE  50.203844  16.253842  \n",
       "3                          SOLNICE  50.203844  16.253842  \n",
       "4                          SOLNICE  50.203844  16.253842  \n",
       "...                            ...        ...        ...  \n",
       "3905  MUNCHEN MILBERSHOFEN ALTMANN  48.181856  11.572768  \n",
       "3906  MUNCHEN MILBERSHOFEN ALTMANN  48.181856  11.572768  \n",
       "3907  MUNCHEN MILBERSHOFEN ALTMANN  48.181856  11.572768  \n",
       "3908  MUNCHEN MILBERSHOFEN ALTMANN  48.181856  11.572768  \n",
       "3909  MUNCHEN MILBERSHOFEN ALTMANN  48.181856  11.572768  \n",
       "\n",
       "[3910 rows x 6 columns]"
      ]
     },
     "execution_count": 7,
     "metadata": {},
     "output_type": "execute_result"
    }
   ],
   "source": [
    "df_short"
   ]
  }
 ],
 "metadata": {
  "kernelspec": {
   "display_name": "Python 3 (ipykernel)",
   "language": "python",
   "name": "python3"
  },
  "language_info": {
   "codemirror_mode": {
    "name": "ipython",
    "version": 3
   },
   "file_extension": ".py",
   "mimetype": "text/x-python",
   "name": "python",
   "nbconvert_exporter": "python",
   "pygments_lexer": "ipython3",
   "version": "3.10.6"
  }
 },
 "nbformat": 4,
 "nbformat_minor": 5
}
